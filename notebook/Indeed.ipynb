{
 "cells": [
  {
   "cell_type": "code",
   "execution_count": null,
   "metadata": {},
   "outputs": [],
   "source": []
  },
  {
   "cell_type": "code",
   "execution_count": 1,
   "metadata": {},
   "outputs": [],
   "source": [
    "%load_ext autoreload\n",
    "%autoreload 2"
   ]
  },
  {
   "cell_type": "code",
   "execution_count": 2,
   "metadata": {},
   "outputs": [],
   "source": [
    "import os,sys,inspect\n",
    "currentdir = os.path.dirname(os.path.abspath(inspect.getfile(inspect.currentframe())))\n",
    "parentdir = os.path.dirname(currentdir)\n",
    "job_alpha = os.path.join(parentdir, 'src')\n",
    "if job_alpha not in sys.path:\n",
    "    sys.path.append(job_alpha)\n",
    "from job_alpha.scraper import IndeedScraper\n",
    "from job_alpha.scheduler import ScrapeScheduler\n",
    "from job_alpha.language import Language"
   ]
  },
  {
   "cell_type": "code",
   "execution_count": 8,
   "metadata": {},
   "outputs": [
    {
     "name": "stderr",
     "output_type": "stream",
     "text": [
      "d:\\utils\\Anaconda3\\envs\\alpha\\lib\\site-packages\\urllib3\\connectionpool.py:857: InsecureRequestWarning: Unverified HTTPS request is being made. Adding certificate verification is strongly advised. See: https://urllib3.readthedocs.io/en/latest/advanced-usage.html#ssl-warnings\n",
      "  InsecureRequestWarning)\n",
      "d:\\utils\\Anaconda3\\envs\\alpha\\lib\\site-packages\\urllib3\\connectionpool.py:857: InsecureRequestWarning: Unverified HTTPS request is being made. Adding certificate verification is strongly advised. See: https://urllib3.readthedocs.io/en/latest/advanced-usage.html#ssl-warnings\n",
      "  InsecureRequestWarning)\n"
     ]
    },
    {
     "name": "stdout",
     "output_type": "stream",
     "text": [
      "['Customer Advocate - Part Time', 'Truck Researcher', 'Data Analyst', 'Software Developer', 'DevOps Engineer', 'Credit Controller', 'Software Engineer', 'Full Cycle Software Developer', 'Financial/Systems Accountant', 'Senior Data Scientist']\n",
      "page 1  pages 2.4\n",
      "https://au.indeed.com/jobs?q=carsales.com&start=10\n"
     ]
    },
    {
     "name": "stderr",
     "output_type": "stream",
     "text": [
      "d:\\utils\\Anaconda3\\envs\\alpha\\lib\\site-packages\\urllib3\\connectionpool.py:857: InsecureRequestWarning: Unverified HTTPS request is being made. Adding certificate verification is strongly advised. See: https://urllib3.readthedocs.io/en/latest/advanced-usage.html#ssl-warnings\n",
      "  InsecureRequestWarning)\n"
     ]
    },
    {
     "name": "stdout",
     "output_type": "stream",
     "text": [
      "['Senior Data Scientist', 'UI Designer', 'Salesforce Administrator', 'Senior Software Engineer', 'Account Manager - Dealer WA', 'Account Manager - Advertising', 'Account Manager - Media Agency', 'Finance Consultant']\n",
      "page 2  pages 2.4\n",
      "https://au.indeed.com/jobs?q=carsales.com&start=20\n"
     ]
    },
    {
     "name": "stderr",
     "output_type": "stream",
     "text": [
      "d:\\utils\\Anaconda3\\envs\\alpha\\lib\\site-packages\\urllib3\\connectionpool.py:857: InsecureRequestWarning: Unverified HTTPS request is being made. Adding certificate verification is strongly advised. See: https://urllib3.readthedocs.io/en/latest/advanced-usage.html#ssl-warnings\n",
      "  InsecureRequestWarning)\n"
     ]
    },
    {
     "name": "stdout",
     "output_type": "stream",
     "text": [
      "['Sales Consultant / Finance Consultant | NSW', 'Financial/Systems Accountant', 'Senior Data Scientist', 'UI Designer', 'Salesforce Administrator', 'Senior Software Engineer', 'Account Manager - Dealer WA', 'Account Manager - Advertising', 'Account Manager - Media Agency', 'Finance Consultant']\n",
      "page 3  pages 2.4\n"
     ]
    }
   ],
   "source": [
    "scraper = IndeedScraper()\n",
    "scraper._job_listings('carsales.com')"
   ]
  },
  {
   "cell_type": "code",
   "execution_count": null,
   "metadata": {},
   "outputs": [],
   "source": []
  }
 ],
 "metadata": {
  "kernelspec": {
   "display_name": "Python 3",
   "language": "python",
   "name": "python3"
  },
  "language_info": {
   "codemirror_mode": {
    "name": "ipython",
    "version": 3
   },
   "file_extension": ".py",
   "mimetype": "text/x-python",
   "name": "python",
   "nbconvert_exporter": "python",
   "pygments_lexer": "ipython3",
   "version": "3.7.0"
  }
 },
 "nbformat": 4,
 "nbformat_minor": 2
}
