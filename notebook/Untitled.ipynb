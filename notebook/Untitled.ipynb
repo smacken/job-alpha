{
 "cells": [
  {
   "cell_type": "code",
   "execution_count": null,
   "metadata": {},
   "outputs": [],
   "source": []
  },
  {
   "cell_type": "code",
   "execution_count": 10,
   "metadata": {},
   "outputs": [
    {
     "name": "stdout",
     "output_type": "stream",
     "text": [
      "B\n",
      "C\n"
     ]
    }
   ],
   "source": [
    "from collections import defaultdict\n",
    "class A(object):\n",
    "    def inheritors(klass):\n",
    "        subclasses = set()\n",
    "        work = [klass]\n",
    "        while work:\n",
    "            parent = work.pop()\n",
    "            for child in parent.__subclasses__():\n",
    "                if child not in subclasses:\n",
    "                    subclasses.add(child)\n",
    "                    work.append(child)\n",
    "        return subclasses\n",
    "    \n",
    "    def run(self):\n",
    "        for c in A.inheritors(A):\n",
    "            c._run(self)\n",
    "            \n",
    "class B(A):\n",
    "    def _run(self):\n",
    "        print('B')\n",
    "        \n",
    "class C(A):\n",
    "    def _run(self):\n",
    "        print('C')\n",
    "        \n",
    "b = B()\n",
    "b.run()"
   ]
  },
  {
   "cell_type": "code",
   "execution_count": 2,
   "metadata": {},
   "outputs": [
    {
     "data": {
      "text/plain": [
       "[(1, 'a'), (1, 'c')]"
      ]
     },
     "execution_count": 2,
     "metadata": {},
     "output_type": "execute_result"
    }
   ],
   "source": [
    "orig = [(1, 'a'), (2, 'b'), (1, 'c')]\n",
    "one = [o for o in orig if o[0] == 1]\n",
    "two = [o for o in orig if o[0] == 2]\n",
    "one"
   ]
  },
  {
   "cell_type": "code",
   "execution_count": null,
   "metadata": {},
   "outputs": [],
   "source": []
  }
 ],
 "metadata": {
  "kernelspec": {
   "display_name": "Python 3",
   "language": "python",
   "name": "python3"
  },
  "language_info": {
   "codemirror_mode": {
    "name": "ipython",
    "version": 3
   },
   "file_extension": ".py",
   "mimetype": "text/x-python",
   "name": "python",
   "nbconvert_exporter": "python",
   "pygments_lexer": "ipython3",
   "version": "3.7.0"
  }
 },
 "nbformat": 4,
 "nbformat_minor": 2
}
