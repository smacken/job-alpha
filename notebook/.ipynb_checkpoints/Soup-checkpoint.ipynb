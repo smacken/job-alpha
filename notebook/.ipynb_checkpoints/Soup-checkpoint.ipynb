{
 "cells": [
  {
   "cell_type": "code",
   "execution_count": null,
   "metadata": {},
   "outputs": [],
   "source": []
  },
  {
   "cell_type": "code",
   "execution_count": 1,
   "metadata": {},
   "outputs": [],
   "source": [
    "%load_ext autoreload\n",
    "%autoreload 2"
   ]
  },
  {
   "cell_type": "code",
   "execution_count": 59,
   "metadata": {},
   "outputs": [],
   "source": [
    "import os,sys,inspect\n",
    "from bs4 import BeautifulSoup\n",
    "import itertools\n",
    "import datetime\n",
    "import re\n",
    "from dateutil.relativedelta import relativedelta\n",
    "currentdir = os.path.dirname(os.path.abspath(inspect.getfile(inspect.currentframe())))\n",
    "parentdir = os.path.dirname(currentdir)\n",
    "data_dir = os.path.join(parentdir, 'data')\n",
    "job_alpha = os.path.join(parentdir, 'src')\n"
   ]
  },
  {
   "cell_type": "code",
   "execution_count": 62,
   "metadata": {},
   "outputs": [
    {
     "data": {
      "text/plain": [
       "[('2018-09-21',\n",
       "  'Superintendent Mining Production | South Flank',\n",
       "  'BHP Billiton Group',\n",
       "  'Port Hedland, Karratha & Pilbara',\n",
       "  'Mining, Resources & Energy',\n",
       "  'Management',\n",
       "  'Flexible work arrangements available. Leadership role on a $4.5 billion project. Help build and shape the culture of a new team',\n",
       "  'Join our South Flank leadership team to help drive results in accordance to the mine plan whilst fostering a safe working environment'),\n",
       " ('2018-09-21',\n",
       "  'Superintendent Mining Production | South Flank',\n",
       "  'BHP Billiton Group',\n",
       "  'Port Hedland, Karratha & Pilbara',\n",
       "  'Mining, Resources & Energy',\n",
       "  'Mining - Operations',\n",
       "  'Flexible work arrangements available. Leadership role on a $4.5 billion project. Help build and shape the culture of a new team',\n",
       "  'Join our South Flank leadership team to help drive results in accordance to the mine plan whilst fostering a safe working environment'),\n",
       " ('2018-09-21',\n",
       "  'Production Technician | Mount Whaleback | Residential Only',\n",
       "  'BHP Billiton Group',\n",
       "  'Port Hedland, Karratha & Pilbara',\n",
       "  'Mining, Resources & Energy',\n",
       "  'Mining - Operations',\n",
       "  'Various Positions Available. Immediate Starts. FIFO',\n",
       "  'We have a number of residential opportunities for experience Production Technicians at our Mt Whaleback site, based in Newman.'),\n",
       " ('2018-09-21',\n",
       "  'Principal Infrastructure Architect (Perth, Brisbane, Adelaide or Melbourne)',\n",
       "  'BHP Billiton Group',\n",
       "  'Perth',\n",
       "  'Information & Communication Technology',\n",
       "  'Architects',\n",
       "  'Excellent Pay Rates  . Immediate Start  . FIFO  ',\n",
       "  'the Principal Technical Architect will have responsibility for defining the infrastructure architecture, integration points and identifying depende...'),\n",
       " ('2018-09-21',\n",
       "  'Advanced Riggers',\n",
       "  'Western Work Force Pty Ltd',\n",
       "  'Port Hedland, Karratha & Pilbara',\n",
       "  'Trades & Services',\n",
       "  'Other',\n",
       "  'DIDO option available. Housing assistance may be provided. Full time permanent positions',\n",
       "  'We are currently seeking Advanced Riggers for different roles ranging from short term project and shutdown work.')]"
      ]
     },
     "execution_count": 62,
     "metadata": {},
     "output_type": "execute_result"
    }
   ],
   "source": [
    "search = os.path.join(data_dir, 'sample-search.htm')\n",
    "with open(search, 'r') as myfile:\n",
    "    data=myfile.read().replace('\\n', '')\n",
    "\n",
    "def get_past_date(str_days_ago):\n",
    "    TODAY = datetime.date.today()\n",
    "    splitted = str_days_ago.split()\n",
    "    if len(splitted) == 1 and splitted[0].lower() == 'today':\n",
    "        return str(TODAY.isoformat())\n",
    "    elif len(splitted) == 1 and splitted[0].lower() == 'yesterday':\n",
    "        date = TODAY - relativedelta(days=1)\n",
    "        return str(date.isoformat())\n",
    "    elif splitted[1].lower() in ['hour', 'hours', 'hr', 'hrs', 'h']:\n",
    "        date = datetime.datetime.now() - relativedelta(hours=int(splitted[0]))\n",
    "        return str(date.date().isoformat())\n",
    "    elif splitted[1].lower() in ['day', 'days', 'd']:\n",
    "        date = TODAY - relativedelta(days=int(splitted[0]))\n",
    "        return str(date.isoformat())\n",
    "    elif splitted[1].lower() in ['wk', 'wks', 'week', 'weeks', 'w']:\n",
    "        date = TODAY - relativedelta(weeks=int(splitted[0]))\n",
    "        return str(date.isoformat())\n",
    "    elif splitted[1].lower() in ['mon', 'mons', 'month', 'months', 'm']:\n",
    "        date = TODAY - relativedelta(months=int(splitted[0]))\n",
    "        return str(date.isoformat())\n",
    "    elif splitted[1].lower() in ['yrs', 'yr', 'years', 'year', 'y']:\n",
    "        date = TODAY - relativedelta(years=int(splitted[0]))\n",
    "        return str(date.isoformat())\n",
    "    else:\n",
    "        return \"Wrong Argument format\"\n",
    "    \n",
    "soup = BeautifulSoup(data, 'html.parser')\n",
    "titles = []\n",
    "companies = []\n",
    "locations = []\n",
    "category = []\n",
    "subcategory = []\n",
    "headers = []\n",
    "short_descriptions = []\n",
    "dates = []\n",
    "for article in soup.find_all('article'):\n",
    "    for title in article.select('h1 a'):\n",
    "        titles.append(title.string)\n",
    "    for item in article.find_all('a', attrs={'data-automation' : True}):\n",
    "        if item['data-automation'] == 'jobCompany':\n",
    "            companies.append(item.string)\n",
    "        if item['data-automation'] == 'jobLocation':\n",
    "            locations.append(item.string) \n",
    "        if item['data-automation'] == 'jobClassification':\n",
    "            category.append(item.string) \n",
    "        if item['data-automation'] == 'jobSubClassification':\n",
    "            subcategory.append(item.string)\n",
    "    for header in article.find_all('ul'):\n",
    "        headers.append('. '.join([header.string for header in article.select('li span span')]))\n",
    "    for item in article.find_all('span', attrs={'data-automation' : True}):\n",
    "        if item['data-automation'] == 'jobListingDate':\n",
    "            date = get_past_date(' '.join(re.split('(\\d+)', item.string.replace('ago', ''))))\n",
    "            dates.append(date)\n",
    "        if item['data-automation'] == 'jobShortDescription':\n",
    "            short_descriptions.append(item.string)\n",
    "results = list(zip(dates, titles, companies, locations, category, subcategory, headers, short_descriptions))\n",
    "results"
   ]
  },
  {
   "cell_type": "code",
   "execution_count": null,
   "metadata": {},
   "outputs": [],
   "source": []
  }
 ],
 "metadata": {
  "kernelspec": {
   "display_name": "Python 3",
   "language": "python",
   "name": "python3"
  },
  "language_info": {
   "codemirror_mode": {
    "name": "ipython",
    "version": 3
   },
   "file_extension": ".py",
   "mimetype": "text/x-python",
   "name": "python",
   "nbconvert_exporter": "python",
   "pygments_lexer": "ipython3",
   "version": "3.7.0"
  }
 },
 "nbformat": 4,
 "nbformat_minor": 2
}
