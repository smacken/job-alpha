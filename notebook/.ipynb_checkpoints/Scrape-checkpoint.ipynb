{
 "cells": [
  {
   "cell_type": "code",
   "execution_count": null,
   "metadata": {},
   "outputs": [],
   "source": []
  },
  {
   "cell_type": "code",
   "execution_count": 1,
   "metadata": {},
   "outputs": [],
   "source": [
    "%load_ext autoreload\n",
    "%autoreload 2"
   ]
  },
  {
   "cell_type": "code",
   "execution_count": 2,
   "metadata": {},
   "outputs": [],
   "source": [
    "import os,sys,inspect\n",
    "currentdir = os.path.dirname(os.path.abspath(inspect.getfile(inspect.currentframe())))\n",
    "parentdir = os.path.dirname(currentdir)\n",
    "job_alpha = os.path.join(parentdir, 'src')\n",
    "if job_alpha not in sys.path:\n",
    "    sys.path.append(job_alpha)\n",
    "from job_alpha.scraper import SeekScraper"
   ]
  },
  {
   "cell_type": "code",
   "execution_count": 3,
   "metadata": {},
   "outputs": [
    {
     "data": {
      "text/plain": [
       "'https://www.seek.com.au/rio-tinto-jobs?sortmode=ListedDate'"
      ]
     },
     "execution_count": 3,
     "metadata": {},
     "output_type": "execute_result"
    }
   ],
   "source": [
    "scrape = SeekScraper()\n",
    "url = scrape.get_url('rio', 'tinto')\n",
    "url"
   ]
  },
  {
   "cell_type": "code",
   "execution_count": 4,
   "metadata": {},
   "outputs": [],
   "source": [
    "import lxml\n"
   ]
  },
  {
   "cell_type": "code",
   "execution_count": 5,
   "metadata": {},
   "outputs": [
    {
     "data": {
      "text/plain": [
       "2"
      ]
     },
     "execution_count": 5,
     "metadata": {},
     "output_type": "execute_result"
    }
   ],
   "source": [
    "scrape = SeekScraper()\n",
    "job_search = scrape.search_url('bhp')\n",
    "len(job_search)"
   ]
  },
  {
   "cell_type": "code",
   "execution_count": 12,
   "metadata": {},
   "outputs": [
    {
     "name": "stdout",
     "output_type": "stream",
     "text": [
      "C:\\dev\\job-alpha\\data\\chromedriver.exe\n"
     ]
    },
    {
     "name": "stderr",
     "output_type": "stream",
     "text": [
      "C:\\utils\\anaconda3\\envs\\alpha\\lib\\site-packages\\urllib3\\connectionpool.py:857: InsecureRequestWarning: Unverified HTTPS request is being made. Adding certificate verification is strongly advised. See: https://urllib3.readthedocs.io/en/latest/advanced-usage.html#ssl-warnings\n",
      "  InsecureRequestWarning)\n"
     ]
    },
    {
     "data": {
      "text/plain": [
       "<div class=\"Pdwn1mb\" data-automation=\"jobDescription\"><span class=\"\"><div><div class=\"_17ZYgCC\" data-automation=\"mobileTemplate\"><p><strong>We are looking for <strong>FULL-TIME AND CASUAL SALES CONSULTANT</strong></strong></p> <p><strong>The applicants MUST BE:</strong></p> <ul> <li><strong>experienced in Telecommunications sales,customer service and motivated to meet or exceed ongoing store sales and customer expectations.</strong></li> <li><strong>confident in SIEBEL and MNC systems (will be preferred)!</strong></li> <li>self-motivated,team player and have an ability to learn quickly.</li> <li>confident with excellent communication skills, listening skills and able to build great rapport with customers.</li> <li>able to deliver high level of pre and post sales Advocacy (NPS)</li> <li>strong in organisational and task management skills with attention to detail.</li> <li>professional at all times with excellent personal presentation and people skills.</li> <li>able to work under pressure and deliver daily results.</li> <li>mature with positive and \"Can Do \"attitude and a high level of initiative</li> <li>very reliable, punctual, trustworthy and hardworking with good work ethics</li> <li>able to attend day starts, sales and product training sessions as required.</li> <li>able to work weekends and extra hours as and when required to support the business</li></ul> <p><strong><em>If you think this accurately describes you than this may be your perfect opportunity to join our ambitious team at Telstra South Yarra.</em> </strong></p> <p><strong>Apply by email to: ryan.vanhemert</strong><strong>@southyarratelstrastore.com.au</strong></p> <p><strong>VERY ATTRACTIVE SALARY AND VERY GENEROUS COMMISSION AVAILABLE FOR THE RIGHT CANDIDATE!</strong></p></div></div></span></div>"
      ]
     },
     "execution_count": 12,
     "metadata": {},
     "output_type": "execute_result"
    }
   ],
   "source": [
    "scrape = SeekScraper()\n",
    "jobid = 36510399\n",
    "details = scrape.get_job_details(jobid)\n",
    "details"
   ]
  },
  {
   "cell_type": "code",
   "execution_count": null,
   "metadata": {},
   "outputs": [],
   "source": []
  }
 ],
 "metadata": {
  "kernelspec": {
   "display_name": "Python 3",
   "language": "python",
   "name": "python3"
  },
  "language_info": {
   "codemirror_mode": {
    "name": "ipython",
    "version": 3
   },
   "file_extension": ".py",
   "mimetype": "text/x-python",
   "name": "python",
   "nbconvert_exporter": "python",
   "pygments_lexer": "ipython3",
   "version": "3.7.0"
  }
 },
 "nbformat": 4,
 "nbformat_minor": 2
}
